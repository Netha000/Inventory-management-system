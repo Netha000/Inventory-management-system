{
 "cells": [
  {
   "cell_type": "code",
   "execution_count": 18,
   "id": "27e0fd7d",
   "metadata": {},
   "outputs": [],
   "source": [
    "#Inventory management system\n",
    "products = {\n",
    "    1: {\"Pd name\": \"dettolhandwash\" , \"price\" : 80 , \"In stock items\" : 30  },\n",
    "    2: {\"Pd name\": \"Haldiram Bhujia\", \"Price\": 30, \"In stock items\": 100},\n",
    "    3: {\"Pd name\": \"Haldiram Channa\", \"Price\": 35, \"In stock items\": 90}, \n",
    "    4: {\"Pd name\": \"Bicano Bhujia\", \"Price\": 25, \"In stock items\": 100}, \n",
    "    5: {\"Pd name\": \"Bicano Channa\", \"Price\": 30, \"In stock items\": 80}, \n",
    "    6: {\"Pd name\": \"Bourbon Biscuits\", \"Price\": 20, \"In stock items\": 80}, \n",
    "    7: {\"Pd name\": \"Oreo Biscuits\", \"Price\": 30, \"In stock items\": 100}, \n",
    "    8: {\"Pd name\": \"Good Day Biscuits\", \"Price\": 20, \"In stock items\": 70}, \n",
    "    9: {\"Pd name\": \"Oatmeal Biscuits\", \"Price\": 50, \"In stock items\": 90}, \n",
    "    10: {\"Pd name\": \"Raisins Packet\", \"Price\": 200, \"In stock items\": 500}, \n",
    "    11: {\"Pd name\": \"Mixed Fruit jam\", \"Price\": 135, \"In stock items\": 90}, \n",
    "    12: {\"Pd name\": \"Mango Jam\", \"Price\": 130, \"In stock items\": 100}, \n",
    "    13: {\"Pd name\": \"Blueberry Jam\", \"Price\": 160, \"In stock items\": 50},\n",
    "    14: {\"Pd name\": \"Maggi Noodles\", \"Price\": 40, \"In stock items\": 500}, \n",
    "    15: {\"Pd name\": \"Schezwan Chutney\", \"Price\": 15, \"In stock items\": 100}, \n",
    "    16: {\"Pd name\": \"Chings Noodles\", \"Price\": 20, \"In stock items\": 70}, \n",
    "    17: {\"Pd name\": \"Saffola Oats\", \"Price\": 120, \"In stock items\": 90}, \n",
    "    18: {\"Pd name\": \"Saffola Oodles\", \"Price\": 50, \"In stock items\": 50}, \n",
    "    19: {\"Pd name\": \"Kelloggs Oats\", \"Price\": 75, \"In stock items\": 90}, \n",
    "    20: {\"Pd name\": \"Kelloggs Muesli\", \"Price\": 200, \"In stock items\": 70}, \n",
    "    21: {\"Pd name\": \"Peanut Butter\", \"Price\": 160, \"In stock items\": 80}, \n",
    "    22: {\"Pd name\": \"Dry Fruits\", \"Price\": 500, \"In stock items\": 120}, \n",
    "    23: {\"Pd name\": \"Henz Ketchup\", \"Price\": 30, \"In stock items\": 100}, \n",
    "    24: {\"Pd name\": \"Kissan Ketchup\", \"Price\": 15, \"In stock items\": 70}, \n",
    "    25: {\"Pd name\": \"Maggi Ketchup\", \"Price\": 30, \"In stock items\": 90}, \n",
    "    26: {\"Pd name\": \"Toothbrush\", \"Price\": 20, \"In stock items\": 100}, \n",
    "    27: {\"Pd name\": \"Toothpaste\", \"Price\": 90, \"In stock items\": 90}, \n",
    "    28: {\"Pd name\": \"Mortein refil\", \"Price\": 100, \"In stock items\": 100},\n",
    "    29: {\"Pd name\": \"Hit Spray \", \"Price\": 100, \"In stock items\": 50}, \n",
    "    30: {\"Pd name\": \"Odomos paste\", \"Price\": 40, \"In stock items\": 20}\n",
    "    \n",
    "    \n",
    "}\n"
   ]
  },
  {
   "cell_type": "code",
   "execution_count": 19,
   "id": "5a7471f8",
   "metadata": {},
   "outputs": [
    {
     "name": "stdout",
     "output_type": "stream",
     "text": [
      "Enter product ID:14\n",
      "Enter Quantity:5\n",
      "product name:  Maggi Noodles\n",
      "price per unit:  40\n",
      "***************************************************************\n",
      "total amount :  200\n",
      "*******************************************************************\n"
     ]
    }
   ],
   "source": [
    "ui_product = int(input(\"Enter product ID:\"))\n",
    "ui_quantity = int(input(\"Enter Quantity:\"))\n",
    "\n",
    "product = products.get(ui_product)\n",
    "\n",
    "if product:\n",
    "  print('product name: ',product.get('Pd name'))\n",
    "  print('price per unit: ', product.get('Price'))\n",
    "  print(\"***************************************************************\")\n",
    "  print('total amount : ', int(ui_quantity)*(product.get('Price')))\n",
    "  print(\"*******************************************************************\")\n",
    "  product['In stock items'] = product['In stock items'] - ui_quantity\n",
    "else:\n",
    "  print(\"product not found\")"
   ]
  },
  {
   "cell_type": "code",
   "execution_count": 20,
   "id": "16c1b1d6",
   "metadata": {},
   "outputs": [
    {
     "data": {
      "text/plain": [
       "{1: {'Pd name': 'dettolhandwash', 'price': 80, 'In stock items': 30},\n",
       " 2: {'Pd name': 'Haldiram Bhujia', 'Price': 30, 'In stock items': 100},\n",
       " 3: {'Pd name': 'Haldiram Channa', 'Price': 35, 'In stock items': 90},\n",
       " 4: {'Pd name': 'Bicano Bhujia', 'Price': 25, 'In stock items': 100},\n",
       " 5: {'Pd name': 'Bicano Channa', 'Price': 30, 'In stock items': 80},\n",
       " 6: {'Pd name': 'Bourbon Biscuits', 'Price': 20, 'In stock items': 80},\n",
       " 7: {'Pd name': 'Oreo Biscuits', 'Price': 30, 'In stock items': 100},\n",
       " 8: {'Pd name': 'Good Day Biscuits', 'Price': 20, 'In stock items': 70},\n",
       " 9: {'Pd name': 'Oatmeal Biscuits', 'Price': 50, 'In stock items': 90},\n",
       " 10: {'Pd name': 'Raisins Packet', 'Price': 200, 'In stock items': 500},\n",
       " 11: {'Pd name': 'Mixed Fruit jam', 'Price': 135, 'In stock items': 90},\n",
       " 12: {'Pd name': 'Mango Jam', 'Price': 130, 'In stock items': 100},\n",
       " 13: {'Pd name': 'Blueberry Jam', 'Price': 160, 'In stock items': 50},\n",
       " 14: {'Pd name': 'Maggi Noodles', 'Price': 40, 'In stock items': 495},\n",
       " 15: {'Pd name': 'Schezwan Chutney', 'Price': 15, 'In stock items': 100},\n",
       " 16: {'Pd name': 'Chings Noodles', 'Price': 20, 'In stock items': 70},\n",
       " 17: {'Pd name': 'Saffola Oats', 'Price': 120, 'In stock items': 90},\n",
       " 18: {'Pd name': 'Saffola Oodles', 'Price': 50, 'In stock items': 50},\n",
       " 19: {'Pd name': 'Kelloggs Oats', 'Price': 75, 'In stock items': 90},\n",
       " 20: {'Pd name': 'Kelloggs Muesli', 'Price': 200, 'In stock items': 70},\n",
       " 21: {'Pd name': 'Peanut Butter', 'Price': 160, 'In stock items': 80},\n",
       " 22: {'Pd name': 'Dry Fruits', 'Price': 500, 'In stock items': 120},\n",
       " 23: {'Pd name': 'Henz Ketchup', 'Price': 30, 'In stock items': 100},\n",
       " 24: {'Pd name': 'Kissan Ketchup', 'Price': 15, 'In stock items': 70},\n",
       " 25: {'Pd name': 'Maggi Ketchup', 'Price': 30, 'In stock items': 90},\n",
       " 26: {'Pd name': 'Toothbrush', 'Price': 20, 'In stock items': 100},\n",
       " 27: {'Pd name': 'Toothpaste', 'Price': 90, 'In stock items': 90},\n",
       " 28: {'Pd name': 'Mortein refil', 'Price': 100, 'In stock items': 100},\n",
       " 29: {'Pd name': 'Hit Spray ', 'Price': 100, 'In stock items': 50},\n",
       " 30: {'Pd name': 'Odomos paste', 'Price': 40, 'In stock items': 20}}"
      ]
     },
     "execution_count": 20,
     "metadata": {},
     "output_type": "execute_result"
    }
   ],
   "source": [
    "products\n"
   ]
  },
  {
   "cell_type": "code",
   "execution_count": 44,
   "id": "eb73917d",
   "metadata": {},
   "outputs": [],
   "source": [
    "import json\n",
    "\n",
    "js = json.dumps(products)\n",
    "\n",
    "\n"
   ]
  },
  {
   "cell_type": "code",
   "execution_count": 45,
   "id": "acd2b293",
   "metadata": {},
   "outputs": [],
   "source": [
    "record = open('record.json','w')\n",
    "record = record.write(js)"
   ]
  },
  {
   "cell_type": "code",
   "execution_count": null,
   "id": "b0be7ca3",
   "metadata": {},
   "outputs": [],
   "source": []
  }
 ],
 "metadata": {
  "kernelspec": {
   "display_name": "Python 3",
   "language": "python",
   "name": "python3"
  },
  "language_info": {
   "codemirror_mode": {
    "name": "ipython",
    "version": 3
   },
   "file_extension": ".py",
   "mimetype": "text/x-python",
   "name": "python",
   "nbconvert_exporter": "python",
   "pygments_lexer": "ipython3",
   "version": "3.8.8"
  }
 },
 "nbformat": 4,
 "nbformat_minor": 5
}
